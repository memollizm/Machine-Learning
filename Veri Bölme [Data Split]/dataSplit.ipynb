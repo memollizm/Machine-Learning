{
 "cells": [
  {
   "cell_type": "markdown",
   "id": "e6fbb21f-89c9-4c7c-bf1b-73a67625e227",
   "metadata": {},
   "source": [
    "### Gerekli Kütüphaneler"
   ]
  },
  {
   "cell_type": "code",
   "execution_count": null,
   "id": "818c0064-2ac3-41c5-8b2c-f5d9ec3f2090",
   "metadata": {},
   "outputs": [],
   "source": [
    "import os\n",
    "import shutil\n",
    "import random"
   ]
  },
  {
   "cell_type": "markdown",
   "id": "e68baaa6-7343-4e19-af4d-49a178d550c2",
   "metadata": {},
   "source": [
    "### Veri Seti Klasörleri"
   ]
  },
  {
   "cell_type": "code",
   "execution_count": null,
   "id": "d567a76b-798d-4ef8-bd32-962c2fea418f",
   "metadata": {},
   "outputs": [],
   "source": [
    "original_dataset_dir = 'datasets'\n",
    "classes = ['benign', 'malignant', 'normal']"
   ]
  },
  {
   "cell_type": "markdown",
   "id": "d9ac2cfa-578a-481b-ad23-4b11148f33b3",
   "metadata": {},
   "source": [
    "* Veri setinin bulunduğu adres = <b>`original_dataset_dir`</b>\n",
    "* Veri setinin içerisindeki etiket sınıfları = <b>`classes`</b>"
   ]
  },
  {
   "cell_type": "markdown",
   "id": "81a21812-f72b-46ef-85ee-acd5cd793288",
   "metadata": {},
   "source": [
    "### Eğitim ve Test Setleri İçin Hedef Klasörler"
   ]
  },
  {
   "cell_type": "code",
   "execution_count": null,
   "id": "d92a3a35-ce2f-4462-96ab-3404b91637ff",
   "metadata": {},
   "outputs": [],
   "source": [
    "base_dir = 'datasets_split'\n",
    "os.makedirs(base_dir, exist_ok=True)\n",
    "\n",
    "train_dir = os.path.join(base_dir, 'training_set')\n",
    "os.makedirs(train_dir, exist_ok=True)\n",
    "\n",
    "test_dir = os.path.join(base_dir, 'test_set')\n",
    "os.makedirs(test_dir, exist_ok=True)"
   ]
  },
  {
   "cell_type": "markdown",
   "id": "f2e2cc13-7ab8-4e02-808d-16c3c7d4042e",
   "metadata": {},
   "source": [
    "* Veri setinin bölünmüş halinin bulunduğu ana klasör = <b>`base_dir`</b>\n",
    "* Eğitim için verilerin bulunduğu klasör = <b>`train_dir`</b>\n",
    "* Test için verilerin bulunduğu klasör = <b>`test_dir`</b>"
   ]
  },
  {
   "cell_type": "markdown",
   "id": "745f0469-5254-4fb9-af06-522252c10d8e",
   "metadata": {},
   "source": [
    "### Sınıflar İçin Klasörlerin Oluşturulması"
   ]
  },
  {
   "cell_type": "code",
   "execution_count": null,
   "id": "f448cb74-03ef-4533-977e-f2476a7e46dd",
   "metadata": {},
   "outputs": [],
   "source": [
    "for cls in classes:\n",
    "    os.makedirs(os.path.join(train_dir, cls), exist_ok=True)\n",
    "    os.makedirs(os.path.join(test_dir, cls), exist_ok=True)"
   ]
  },
  {
   "cell_type": "markdown",
   "id": "78491038-a6d8-4f81-abd0-18d5b829b3f2",
   "metadata": {},
   "source": [
    "### Verilerin Oranlara Göre Bölünmesi"
   ]
  },
  {
   "cell_type": "code",
   "execution_count": null,
   "id": "b0d952f4-9675-42d3-b62b-f10ae3d96fe5",
   "metadata": {},
   "outputs": [],
   "source": [
    "train_ratio = 0.8"
   ]
  },
  {
   "cell_type": "markdown",
   "id": "655e08ae-53ae-4278-b448-879d535f3fdd",
   "metadata": {},
   "source": [
    "* Data set'in %80 eğitim, %20 test olacak şekilde bölünmesi gerektiğini belirttik."
   ]
  },
  {
   "cell_type": "code",
   "execution_count": null,
   "id": "e030bbd1-b8a3-4637-9fce-6c93b5e8c44a",
   "metadata": {},
   "outputs": [],
   "source": [
    "for cls in classes:\n",
    "    src_dir = os.path.join(original_dataset_dir, cls)\n",
    "    all_filenames = os.listdir(src_dir)\n",
    "    random.shuffle(all_filenames)\n",
    "    train_size = int(len(all_filenames) * train_ratio)\n",
    "    train_filenames = all_filenames[:train_size]\n",
    "    test_filenames = all_filenames[train_size:]\n",
    "\n",
    "    # Eğitim setine dosyaların kopyalanması\n",
    "    for fname in train_filenames:\n",
    "        src = os.path.join(src_dir, fname)\n",
    "        dst = os.path.join(os.path.join(train_dir, cls), fname)\n",
    "        shutil.copyfile(src, dst)\n",
    "\n",
    "    # Test setine dosyaların kopyalanması\n",
    "    for fname in test_filenames:\n",
    "        src = os.path.join(src_dir, fname)\n",
    "        dst = os.path.join(os.path.join(test_dir, cls), fname)\n",
    "        shutil.copyfile(src, dst)\n",
    "\n",
    "print('Veri seti başarıyla ayrıldı.')"
   ]
  }
 ],
 "metadata": {
  "kernelspec": {
   "display_name": "Python 3 (ipykernel)",
   "language": "python",
   "name": "python3"
  },
  "language_info": {
   "codemirror_mode": {
    "name": "ipython",
    "version": 3
   },
   "file_extension": ".py",
   "mimetype": "text/x-python",
   "name": "python",
   "nbconvert_exporter": "python",
   "pygments_lexer": "ipython3",
   "version": "3.12.3"
  }
 },
 "nbformat": 4,
 "nbformat_minor": 5
}
